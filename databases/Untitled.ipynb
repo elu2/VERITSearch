{
 "cells": [
  {
   "cell_type": "code",
   "execution_count": 35,
   "id": "2779e2e5-1a67-4e51-9517-2b32f67f0716",
   "metadata": {},
   "outputs": [
    {
     "name": "stdout",
     "output_type": "stream",
     "text": [
      "Pickled proteins0f\n"
     ]
    }
   ],
   "source": [
    "import pandas as pd\n",
    "import pickle\n",
    "\n",
    "\n",
    "def pickler(to_pickle):\n",
    "    to_pickle_csv = pd.read_csv(to_pickle, encoding=\"utf-8\", sep=\"\\t\", header=None).rename({0:\"name\", 1:\"id\"}, axis=1).drop(2, axis=1).drop_duplicates().reset_index(drop=True)\n",
    "    pickle.dump(to_pickle_csv, open(f\"{to_pickle.split('.')[0]}.pkl\", \"wb\"))\n",
    "    print(f\"Pickled {to_pickle.split('.')[0]}\")\n",
    "    \n",
    "\n",
    "pickler(\"proteins0f.tsv\")"
   ]
  },
  {
   "cell_type": "code",
   "execution_count": 36,
   "id": "01aeaf28-ca1a-45d2-8288-5e879cb5e580",
   "metadata": {},
   "outputs": [
    {
     "data": {
      "text/html": [
       "<div>\n",
       "<style scoped>\n",
       "    .dataframe tbody tr th:only-of-type {\n",
       "        vertical-align: middle;\n",
       "    }\n",
       "\n",
       "    .dataframe tbody tr th {\n",
       "        vertical-align: top;\n",
       "    }\n",
       "\n",
       "    .dataframe thead th {\n",
       "        text-align: right;\n",
       "    }\n",
       "</style>\n",
       "<table border=\"1\" class=\"dataframe\">\n",
       "  <thead>\n",
       "    <tr style=\"text-align: right;\">\n",
       "      <th></th>\n",
       "      <th>name</th>\n",
       "      <th>id</th>\n",
       "    </tr>\n",
       "  </thead>\n",
       "  <tbody>\n",
       "    <tr>\n",
       "      <th>0</th>\n",
       "      <td>0+</td>\n",
       "      <td>Q9JMA9</td>\n",
       "    </tr>\n",
       "    <tr>\n",
       "      <th>1</th>\n",
       "      <td>0+</td>\n",
       "      <td>Q9UN76</td>\n",
       "    </tr>\n",
       "    <tr>\n",
       "      <th>2</th>\n",
       "      <td>0044</td>\n",
       "      <td>L8FL04</td>\n",
       "    </tr>\n",
       "    <tr>\n",
       "      <th>3</th>\n",
       "      <td>0044</td>\n",
       "      <td>L8FM21</td>\n",
       "    </tr>\n",
       "    <tr>\n",
       "      <th>4</th>\n",
       "      <td>0056</td>\n",
       "      <td>L8FL29</td>\n",
       "    </tr>\n",
       "    <tr>\n",
       "      <th>...</th>\n",
       "      <td>...</td>\n",
       "      <td>...</td>\n",
       "    </tr>\n",
       "    <tr>\n",
       "      <th>848196</th>\n",
       "      <td>FZR2</td>\n",
       "      <td>Q8L3Z8</td>\n",
       "    </tr>\n",
       "    <tr>\n",
       "      <th>848197</th>\n",
       "      <td>FZR2</td>\n",
       "      <td>Q9UM11</td>\n",
       "    </tr>\n",
       "    <tr>\n",
       "      <th>848198</th>\n",
       "      <td>FZR3</td>\n",
       "      <td>Q8LPL5</td>\n",
       "    </tr>\n",
       "    <tr>\n",
       "      <th>848199</th>\n",
       "      <td>FZRB</td>\n",
       "      <td>Q92765</td>\n",
       "    </tr>\n",
       "    <tr>\n",
       "      <th>848200</th>\n",
       "      <td>fzy-1</td>\n",
       "      <td>Q09373</td>\n",
       "    </tr>\n",
       "  </tbody>\n",
       "</table>\n",
       "<p>848201 rows × 2 columns</p>\n",
       "</div>"
      ],
      "text/plain": [
       "         name      id\n",
       "0          0+  Q9JMA9\n",
       "1          0+  Q9UN76\n",
       "2        0044  L8FL04\n",
       "3        0044  L8FM21\n",
       "4        0056  L8FL29\n",
       "...       ...     ...\n",
       "848196   FZR2  Q8L3Z8\n",
       "848197   FZR2  Q9UM11\n",
       "848198   FZR3  Q8LPL5\n",
       "848199   FZRB  Q92765\n",
       "848200  fzy-1  Q09373\n",
       "\n",
       "[848201 rows x 2 columns]"
      ]
     },
     "execution_count": 36,
     "metadata": {},
     "output_type": "execute_result"
    }
   ],
   "source": [
    "pd.read_pickle(\"proteins0f.pkl\")"
   ]
  },
  {
   "cell_type": "code",
   "execution_count": null,
   "id": "d4c7e29f-db6b-4349-9d87-742aa29a4709",
   "metadata": {},
   "outputs": [],
   "source": [
    "to_pickle = \"filename.tsv\"\n",
    "to_pickle_csv = pd.read_csv(to_pickle, encoding=\"utf-8\", sep=\"\\t\", header=None).rename({0:\"name\", 1:\"id\"}, axis=1).drop(2, axis=1).drop_duplicates().reset_index(drop=True)"
   ]
  },
  {
   "cell_type": "code",
   "execution_count": 37,
   "id": "49deacd0-2eba-48c3-9608-a9630e875b42",
   "metadata": {},
   "outputs": [
    {
     "name": "stdout",
     "output_type": "stream",
     "text": [
      "Pickled nodes_table_all_labelled\n"
     ]
    }
   ],
   "source": [
    "import pandas as pd\n",
    "import pickle\n",
    "\n",
    "\n",
    "def pickler(to_pickle):\n",
    "    to_pickle_csv = pd.read_csv(to_pickle, encoding=\"utf-8\")#, sep=\"\\t\", header=None).rename({0:\"name\", 1:\"id\"}, axis=1)\n",
    "    pickle.dump(to_pickle_csv, open(f\"{to_pickle.split('.')[0]}.pkl\", \"wb\"))\n",
    "    print(f\"Pickled {to_pickle.split('.')[0]}\")\n",
    "\n",
    "pickler(\"nodes_table_all_labelled.csv\")"
   ]
  },
  {
   "cell_type": "code",
   "execution_count": null,
   "id": "25e5d2a8-8afc-4c17-8188-a025fca796e3",
   "metadata": {},
   "outputs": [],
   "source": []
  }
 ],
 "metadata": {
  "kernelspec": {
   "display_name": "Python 3",
   "language": "python",
   "name": "python3"
  },
  "language_info": {
   "codemirror_mode": {
    "name": "ipython",
    "version": 3
   },
   "file_extension": ".py",
   "mimetype": "text/x-python",
   "name": "python",
   "nbconvert_exporter": "python",
   "pygments_lexer": "ipython3",
   "version": "3.8.8"
  }
 },
 "nbformat": 4,
 "nbformat_minor": 5
}
